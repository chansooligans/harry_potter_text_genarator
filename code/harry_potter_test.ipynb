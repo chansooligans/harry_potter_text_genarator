{
 "cells": [
  {
   "cell_type": "code",
   "execution_count": 1,
   "metadata": {},
   "outputs": [
    {
     "name": "stderr",
     "output_type": "stream",
     "text": [
      "Using TensorFlow backend.\n"
     ]
    }
   ],
   "source": [
    "import sys\n",
    "import numpy as np\n",
    "import string\n",
    "\n",
    "from keras.models import Sequential\n",
    "from keras.layers import LSTM, Dense, Activation\n",
    "\n",
    "LAYER_COUNT = 3\n",
    "HIDDEN_LAYERS_DIM = 500"
   ]
  },
  {
   "cell_type": "code",
   "execution_count": 2,
   "metadata": {},
   "outputs": [
    {
     "name": "stdout",
     "output_type": "stream",
     "text": [
      "vocabulary len = 98\n",
      "['0', '1', '2', '3', '4', '5', '6', '7', '8', '9', 'a', 'b', 'c', 'd', 'e', 'f', 'g', 'h', 'i', 'j', 'k', 'l', 'm', 'n', 'o', 'p', 'q', 'r', 's', 't', 'u', 'v', 'w', 'x', 'y', 'z', 'A', 'B', 'C', 'D', 'E', 'F', 'G', 'H', 'I', 'J', 'K', 'L', 'M', 'N', 'O', 'P', 'Q', 'R', 'S', 'T', 'U', 'V', 'W', 'X', 'Y', 'Z', '!', '\"', '#', '$', '%', '&', \"'\", '(', ')', '*', '+', ',', '-', '.', '/', ':', ';', '<', '=', '>', '?', '@', '[', '\\\\', ']', '^', '_', '`', '{', '|', '}', '~', ' ', '\\t', '\\n', '\\r']\n"
     ]
    }
   ],
   "source": [
    "# generic vocabulary\n",
    "characters = list(string.printable)\n",
    "characters.remove('\\x0b')\n",
    "characters.remove('\\x0c')\n",
    "\n",
    "VOCABULARY_SIZE = len(characters)\n",
    "characters_to_ix = {c:i for i,c in enumerate(characters)}\n",
    "print(\"vocabulary len = %d\" % VOCABULARY_SIZE)\n",
    "print(characters)"
   ]
  },
  {
   "cell_type": "code",
   "execution_count": 3,
   "metadata": {
    "collapsed": true
   },
   "outputs": [],
   "source": [
    "test_model = Sequential()\n",
    "for i in range(LAYER_COUNT):\n",
    "    test_model.add(\n",
    "            LSTM(\n",
    "                HIDDEN_LAYERS_DIM, \n",
    "                return_sequences=True if (i!=(LAYER_COUNT-1)) else False,\n",
    "                batch_input_shape=(1, 1, VOCABULARY_SIZE),\n",
    "                stateful=True\n",
    "            )\n",
    "        )\n",
    "test_model.add(Dense(VOCABULARY_SIZE))\n",
    "test_model.add(Activation('softmax'))\n",
    "test_model.compile(loss='categorical_crossentropy', optimizer=\"adam\")"
   ]
  },
  {
   "cell_type": "code",
   "execution_count": 4,
   "metadata": {},
   "outputs": [
    {
     "name": "stdout",
     "output_type": "stream",
     "text": [
      "_________________________________________________________________\n",
      "Layer (type)                 Output Shape              Param #   \n",
      "=================================================================\n",
      "lstm_1 (LSTM)                (1, 1, 500)               1198000   \n",
      "_________________________________________________________________\n",
      "lstm_2 (LSTM)                (1, 1, 500)               2002000   \n",
      "_________________________________________________________________\n",
      "lstm_3 (LSTM)                (1, 500)                  2002000   \n",
      "_________________________________________________________________\n",
      "dense_1 (Dense)              (1, 98)                   49098     \n",
      "_________________________________________________________________\n",
      "activation_1 (Activation)    (1, 98)                   0         \n",
      "=================================================================\n",
      "Total params: 5,251,098\n",
      "Trainable params: 5,251,098\n",
      "Non-trainable params: 0\n",
      "_________________________________________________________________\n"
     ]
    }
   ],
   "source": [
    "test_model.summary()"
   ]
  },
  {
   "cell_type": "code",
   "execution_count": 5,
   "metadata": {
    "collapsed": true
   },
   "outputs": [],
   "source": [
    "test_model.load_weights(\n",
    "    \"4-gpu_BS-100_3-500_dp0.20_60S_epoch01-loss2.9326-val-loss2.4937_weights\"\n",
    ")"
   ]
  },
  {
   "cell_type": "code",
   "execution_count": 12,
   "metadata": {
    "collapsed": true
   },
   "outputs": [],
   "source": [
    "test_model.load_weights(\n",
    "    \"4-gpu_BS-100_3-500_dp0.20_60S_epoch01-loss1.7700-val-loss1.3981_weights\"\n",
    ")"
   ]
  },
  {
   "cell_type": "code",
   "execution_count": 6,
   "metadata": {
    "collapsed": true
   },
   "outputs": [],
   "source": [
    "# May 25\n",
    "test_model.load_weights(\n",
    "    \"4-gpu_BS-80_3-500_dp0.20_60S_epoch01-loss1.4302-val-loss1.2292_weights\"\n",
    ")"
   ]
  },
  {
   "cell_type": "code",
   "execution_count": 28,
   "metadata": {
    "collapsed": true
   },
   "outputs": [],
   "source": [
    "def sample(preds, temperature=1.0):\n",
    "    \"\"\"Helper function to sample an index from a probability array\"\"\"\n",
    "    # from fchollet/keras\n",
    "    preds = np.asarray(preds).astype('float64')\n",
    "    preds = np.log(preds) / temperature\n",
    "    exp_preds = np.exp(preds)\n",
    "    preds = exp_preds / np.sum(exp_preds)\n",
    "    probas = np.random.multinomial(1, preds, 1)\n",
    "    return np.argmax(probas)\n",
    "\n",
    "def predict_next_char(model, current_char, diversity=1.0):\n",
    "    \"\"\"Predict the next character from the current one\"\"\"\n",
    "    x = np.zeros((1, 1, VOCABULARY_SIZE))\n",
    "    x[:,:,characters_to_ix[current_char]] = 1\n",
    "    y = model.predict(x, batch_size=1)\n",
    "    next_char_ix = sample(y[0,:], temperature=diversity)\n",
    "    next_char = characters[next_char_ix]\n",
    "    return next_char\n",
    "\n",
    "def generate_text(model, seed=\"I am\", count=100):\n",
    "    \"\"\"Generate characters from a given seed\"\"\"\n",
    "    model.reset_states()\n",
    "    for s in seed[:-1]:\n",
    "        next_char = predict_next_char(model, s)\n",
    "    current_char = seed[-1]\n",
    "\n",
    "    sys.stdout.write(\"[\"+seed+\"]\")\n",
    "    \n",
    "    for i in range(count - len(seed)):\n",
    "        next_char = predict_next_char(model, current_char, diversity=0.5)\n",
    "        current_char = next_char\n",
    "        sys.stdout.write(next_char)\n",
    "    print(\"...\\n\")"
   ]
  },
  {
   "cell_type": "code",
   "execution_count": 25,
   "metadata": {
    "collapsed": true
   },
   "outputs": [],
   "source": [
    "sentence = \"In a stunning reversal just a day after canceling his meeting with Kim Jong-un,\""
   ]
  },
  {
   "cell_type": "code",
   "execution_count": 27,
   "metadata": {},
   "outputs": [
    {
     "name": "stdout",
     "output_type": "stream",
     "text": [
      "[In a stunning reversal just a day after canceling his meeting with Kim Jong-un,] and seemed to be trouble and start conversters about that had to be a very closer from the mazing eyes. It's in the top of the stone chance. ... and all that through the confised again. . . he could be all right that was much to see him everything for that way ...\"\n",
      "\n",
      "\"What?\" said Harry frantly, \"will have a start of the staircase at the stone champions and there was the part of this about the moment, that thing he's n...\n",
      "\n",
      "[In a stunning reversal just a day after canceling his meeting with Kim Jong-un,] who was still sending a moment with him in the castle, and started to the table carriage from the stone and started to the whole possible of the castle. \"I know what we has really see it and got to all read who and try conversation. Professor McGonagall - the first task was starting to the bring and for a face at all. . . the Whole I thought he had some done to the students ... he said and trember. . . but he's a lar...\n",
      "\n"
     ]
    }
   ],
   "source": [
    "for i in range(2):\n",
    "    generate_text(\n",
    "        test_model,\n",
    "        seed=sentence\n",
    "    )"
   ]
  },
  {
   "cell_type": "code",
   "execution_count": null,
   "metadata": {
    "collapsed": true
   },
   "outputs": [],
   "source": []
  }
 ],
 "metadata": {
  "kernelspec": {
   "display_name": "Python 3",
   "language": "python",
   "name": "python3"
  },
  "language_info": {
   "codemirror_mode": {
    "name": "ipython",
    "version": 3
   },
   "file_extension": ".py",
   "mimetype": "text/x-python",
   "name": "python",
   "nbconvert_exporter": "python",
   "pygments_lexer": "ipython3",
   "version": "3.6.3"
  }
 },
 "nbformat": 4,
 "nbformat_minor": 2
}
